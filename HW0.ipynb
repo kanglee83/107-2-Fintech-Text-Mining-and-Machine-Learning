{
 "cells": [
  {
   "cell_type": "code",
   "execution_count": 7,
   "metadata": {},
   "outputs": [],
   "source": [
    "from datetime import datetime, timedelta\n",
    "\n",
    "#設定抓新聞的起始日、終點日\n",
    "start_date = \"2019-02-01\"\n",
    "stop_date = \"2019-03-06\"\n",
    "\n",
    "#將日期的string形式化成datatime格式\n",
    "start = datetime.strptime(start_date, \"%Y-%m-%d\")\n",
    "stop = datetime.strptime(stop_date, \"%Y-%m-%d\")\n",
    "\n",
    "#先建立dates的list，然後只要起始日還未達到終點日，就將該日期的string加入dates list裡，並令該日加一日\n",
    "dates = list()\n",
    "while start <= stop:\n",
    "    dates.append(start.strftime('%Y%m%d'))\n",
    "    start = start + timedelta(days=1)"
   ]
  },
  {
   "cell_type": "code",
   "execution_count": 8,
   "metadata": {},
   "outputs": [],
   "source": [
    "import requests\n",
    "from bs4 import BeautifulSoup as bs"
   ]
  },
  {
   "cell_type": "code",
   "execution_count": 9,
   "metadata": {},
   "outputs": [],
   "source": [
    "def process_document(document, date):\n",
    "    \n",
    "    #節點選擇，條件看不懂\n",
    "    nodes = document.select('ul.list > li')\n",
    "    data = list()\n",
    "\n",
    "    for li in nodes:\n",
    "\n",
    "        # check if is empty element \n",
    "        #如果是空白節點就繼續？a什麼意思？\n",
    "        if li.select_one('a') == None:\n",
    "            continue\n",
    "\n",
    "        # get link\n",
    "        #['href']？\n",
    "        li_link = 'http://news.ltn.com.tw/' + li.select_one('a')['href']\n",
    "\n",
    "        # request for document\n",
    "        li_res = requests.get(li_link)\n",
    "        li_doc = bs(li_res.text, 'lxml')\n",
    "\n",
    "        # get date\n",
    "        #根據傳入的date\n",
    "        li_date = datetime.strptime(date, \"%Y%m%d\").strftime('%Y-%m-%d')\n",
    "\n",
    "        #get title\n",
    "        li_title = li.select_one('p').get_text()\n",
    "\n",
    "        #get content\n",
    "        li_content = \"\"\n",
    "        for ele in li_doc.select('div.text > p'):\n",
    "            if not 'appE1121' in ele.get('class', []):\n",
    "                li_content += ele.get_text()\n",
    "\n",
    "        # append new row\n",
    "        data.append({\n",
    "            'date' : li_date,\n",
    "            'title': li_title,\n",
    "            'link' : li_link,\n",
    "            'content' : li_content,\n",
    "            'tags' : []\n",
    "        })\n",
    "    return data"
   ]
  },
  {
   "cell_type": "code",
   "execution_count": 10,
   "metadata": {},
   "outputs": [
    {
     "name": "stdout",
     "output_type": "stream",
     "text": [
      "start crawling : 20190201\n",
      "start crawling : 20190202\n",
      "start crawling : 20190203\n",
      "start crawling : 20190204\n",
      "start crawling : 20190205\n",
      "start crawling : 20190206\n",
      "start crawling : 20190207\n",
      "start crawling : 20190208\n",
      "start crawling : 20190209\n",
      "start crawling : 20190210\n",
      "start crawling : 20190211\n",
      "start crawling : 20190212\n",
      "start crawling : 20190213\n",
      "start crawling : 20190214\n",
      "start crawling : 20190215\n",
      "start crawling : 20190216\n",
      "start crawling : 20190217\n",
      "start crawling : 20190218\n",
      "start crawling : 20190219\n",
      "start crawling : 20190220\n",
      "start crawling : 20190221\n",
      "start crawling : 20190222\n",
      "start crawling : 20190223\n",
      "start crawling : 20190224\n",
      "start crawling : 20190225\n",
      "start crawling : 20190226\n",
      "start crawling : 20190227\n",
      "start crawling : 20190228\n",
      "start crawling : 20190301\n",
      "start crawling : 20190302\n",
      "start crawling : 20190303\n",
      "start crawling : 20190304\n",
      "start crawling : 20190305\n",
      "start crawling : 20190306\n"
     ]
    }
   ],
   "source": [
    "cnt = 0\n",
    "all_data = list()\n",
    "for date in dates:\n",
    "    print('start crawling :', date)\n",
    "    res = requests.get('https://news.ltn.com.tw/list/newspaper/politics/' + date)\n",
    "    doc = bs(res.text, 'lxml')\n",
    "    data = process_document(doc, date)\n",
    "    all_data += data"
   ]
  },
  {
   "cell_type": "code",
   "execution_count": 11,
   "metadata": {},
   "outputs": [
    {
     "data": {
      "text/plain": [
       "[{'date': '2019-02-01',\n",
       "  'title': '嚴德發：想要和平 先做好戰爭準備',\n",
       "  'link': 'http://news.ltn.com.tw/news/politics/paper/1265470',\n",
       "  'content': '〔記者涂鉅旻／台北報導〕中國國家主席習近平在今年初發表談話，再度提及一國兩制、不放棄武力犯台主張，國防部長嚴德發昨也對全體國軍表示，英國前首相邱吉爾曾在二戰時引述古羅馬人物名言稱：「想要和平，先要做好戰爭的準備。」在面對未來日益嚴峻挑戰，盼國軍全體官兵秉持敬業樂群精神，戮力戰訓本務。嚴德發在昨日播出的政戰節目「莒光園地」發表談話表示，習近平在今年元旦藉著紀念「告台灣同胞書」四十週年場合發表談話，表明不放棄以武力犯台，蔡英文總統立刻提出「四個必須」及「三道防護網」，宣示帶領國人拚民生、護民主、守主權，迎向挑戰。嚴德發表示，三軍統帥對國軍的指導很明確，就是持續精實戰力，捍衛國家發展與維護百姓福祉，讓國軍成為自由民主永遠的守護者。他也援引前英國首相邱吉爾在二戰期間，引述古羅馬人物韋格蒂烏斯（Vegetius）的名言說：「想要和平，先要做好戰爭的準備。」畢竟軍隊存在的目的，就是要以堅實的戰力維護和平。嚴德發表示，面對未來日益嚴峻的挑戰，他希望全體官兵秉持敬業樂群精神，戮力戰訓本務，莫忘初衷，善盡保國衛民的神聖使命，確保人民能夠享有免於恐懼的安和樂利生活，這樣才能不負國人的期許。',\n",
       "  'tags': []},\n",
       " {'date': '2019-02-01',\n",
       "  'title': '習近平嗆武統 歐洲議會批中挺台',\n",
       "  'link': 'http://news.ltn.com.tw/news/politics/paper/1265471',\n",
       "  'content': '〔記者彭琬馨／台北報導〕中國領導人習近平上月初發表對台談話，不承諾放棄對台動武。歐洲議會三十日罕見公開討論兩岸政治議題，歐盟執委會官員除發表談話籲兩岸維持現狀外，也強調將與台灣在不同領域緊密合作。歐洲議會三十日在比利時布魯塞爾召開全會，會中邀請歐盟執委會針對「中國與台灣兩岸關係的最新發展」發表看法。歐盟執委會人道援助及危機管理執委斯蒂里亞尼迪斯表示，近年兩岸關係趨於緊張，歐盟對此感到遺憾，今年中國領導人習近平發表對台談話後，歐盟迅速回應希望兩岸能和平對話，並強調尊重台灣治理體系，且台灣與歐盟在民主、法治及人權具有共同價值，雙方理念相近，也鼓勵台灣積極參與國際事務。斯蒂里亞尼迪斯指出，中國自二○一六年以來限制兩岸高層交流，且欲進一步壓縮台灣國際空間及誘使盟友改變立場，歐盟對此持續鼓勵兩岸進行建設性對話。歐盟呼籲兩岸維持現狀，並在與台灣共享價值及利益下，繼續尋求與台灣在不同領域緊密合作。歐洲議會友台小組主席朗根等近二十位跨黨團資深議員，則連番發言抨擊習近平提出不放棄對台使用武力及強加「一國兩制」模式，導致兩岸緊張局勢加劇，將損及台海與亞太區域安全。朗根等議員強烈反對中國以武力解決兩岸問題，強調兩岸爭端應以國際法為基礎透過和平方式解決，呼籲中國正視中華民國存在的事實，尊重台灣二千三百萬人民堅守的自由民主價值及決定自己未來前途的權利，同時籲請歐盟執委會採取具體行動支持台灣。外交部表示，歐洲議會首度在中國領導人發表對台談話後，將兩岸政治議題納入全會議程進行辯論，意義不凡，且執委會代表及絕大多數發言議員均對中方表達嚴正立場，再度展現對我長期友誼與堅定支持，外交部對此深表歡迎及感謝。',\n",
       "  'tags': []},\n",
       " {'date': '2019-02-01',\n",
       "  'title': '總統遭國台辦謾罵 吳釗燮回嗆瘋子',\n",
       "  'link': 'http://news.ltn.com.tw/news/politics/paper/1265472',\n",
       "  'content': '〔記者彭琬馨／台北報導〕農曆春節前夕，總統蔡英文至全台各地勞軍行程，遭中國國台辦發言人馬曉光批：「以武拒統，死路一條！」馬更指蔡裝「大力水手」當網紅、扮花旦。外交部長吳釗燮昨以「JW」署名在外交部推特上發文回擊，反嗆國台辦是一群瘋子。吳釗燮在推文中表示，台灣是捍衛自由、民主生活方式的最前線國家，台灣會持續戰鬥，對抗國家層級的干預、滲透、假資訊、軍隊威脅、國際攻擊、非洲豬瘟、「五毛黨（wumao）」與「國台辦的瘋子們（GTB lunatics）」。推文並附上一張非洲豬瘟中國疫情的擴散時間表，圖中顯示台灣位處抵禦豬瘟疫情的最前線。吳釗燮過去曾多次以JW署名在外交部推特上發言回嗆中國。日前有中國民眾使用推特發言、卻被關進拘留所十多天，吳釗燮便在推特上發文指：「我忍不住想問，你們到底在怕什麼？拜託，推特很好玩的！」台灣麥當勞發布滿福堡廣告，影片中以「台灣」稱呼主角國籍，引發中國網友不滿抵制，影片並從YouTube下架，吳釗燮也在推特上發文指：「現在連漢堡都要遵守一中原則了嗎？這是在開玩笑吧？」',\n",
       "  'tags': []},\n",
       " {'date': '2019-02-01',\n",
       "  'title': '禁中國資通產品原則 政院延至年後宣布',\n",
       "  'link': 'http://news.ltn.com.tw/news/politics/paper/1265473',\n",
       "  'content': '〔記者李欣芳／台北報導〕行政院要禁止中央機關採購中國資通訊等產品，原規劃一月底發布「各機關使用陸資產品的原則」，這項行政命令的訂定因事涉複雜，且敏感性高，包括適用對象、陸資品牌及陸資的定義，都需更細緻討論，確定延到農曆過年後宣布。行政院發言人谷辣斯．尤達卡（Kolas Yotaka）昨強調，政院公布這項處理原則，絕不是企圖打擊任何與中國有關的企業，而是盼各機關基於資安與國安原則，未來採購政府機關使用的資通訊商品時，能有規範與處理的標準。行政院昨並證實，行政院院本部的資安長由副秘書長宋餘俠兼任，負責推動及監督政院資通安全事務。政院日前表明，將在一月底發布中央政府各機關使用中國資通訊等產品的處理原則，預計三月公布一份陸資產品的清單，讓中央各機關了解哪些中國資通訊等產品不能採購。由於依照「行政程序法」規定，國營事業不納入行政規則的適用範圍，但若依資安法規定，八大關鍵基礎設施的水、通信等相關單位就可能在適用範圍，事涉複雜，政院要待相關問題確認後，呈報行政院長蘇貞昌，再對外公布。',\n",
       "  'tags': []},\n",
       " {'date': '2019-02-01',\n",
       "  'title': '賀台灣關係法40週年 佛訥籲美與台簽FTA',\n",
       "  'link': 'http://news.ltn.com.tw/news/politics/paper/1265474',\n",
       "  'content': '〔記者蘇永耀、吳佳穎／台北報導〕蔡英文總統昨日接見美國智庫「傳統基金會」創辦人佛訥（Edwin J. Feulner Jr.）博士，說明政府為打造一個經濟更開放、貿易更自由的台灣所做的努力與成果，並強調我政府在推動經濟結構轉型的同時，也將持續深化民主、健全法治。與川普政府關係密切的佛訥也表明，會持續敦促他的美國友人推動台美洽簽自由貿易協定（FTA）。讚台經濟自由全球第10傳統基金會昨也在台舉辦「二○一九年經濟自由度報告」海外記者會，佛訥同樣呼籲美國應與台灣簽訂FTA，做為「台灣關係法」四十週年生日大禮。他並引述美國副總統彭斯演說，強調台灣是美國印太戰略的重要夥伴，呼籲美國持續強化對台合作關係，並落實「台灣關係法」。傳統基金會公布的「二○一九年經濟自由度報告」，台灣首次躋身全球前十名。佛訥肯定台灣在經濟自由的進步，他引述前英國首相柴契爾夫人說法，經濟自由與政治自由是硬幣的正反兩面，兩者不可分割，經濟自由將權力下放人民，從而達成政治自由；觀察近幾年來的台灣，除經濟自由持續進步外，民主發展也有極佳表現，「這是台灣人民促成的結果」。行政院政務委員鄧振中也呼籲，台灣是美國第十一大經貿夥伴，也是美國出口第十四大市場，且台灣經貿架構和自由市場規則相符，在美國與亞太關係日趨緊密的同時，台灣是美國強力的後盾，呼籲美國與台灣簽訂FTA。佛訥在晉見蔡總統時，也向總統提交「二○一九經濟自由度指數報告」。他說，今年是台灣歷年表現最好的一年，在全球排名第十，甚至比美國排名更前面。總統則表示，打造一個經濟更開放、貿易更自由的台灣，是她就任以來一直在努力的目標。今年台灣經濟自由度在全球一百八十個經濟體中排名第十，比去年進步了三個名次，在亞太地區排名第五，這是二○○八年以來最好的成績。而過去兩年多來，無論是法規鬆綁、財政健全、開放市場及能源轉型等，台灣政府都做了很多努力。',\n",
       "  'tags': []}]"
      ]
     },
     "execution_count": 11,
     "metadata": {},
     "output_type": "execute_result"
    }
   ],
   "source": [
    "all_data[0:5]"
   ]
  },
  {
   "cell_type": "code",
   "execution_count": 12,
   "metadata": {},
   "outputs": [
    {
     "ename": "FileNotFoundError",
     "evalue": "[Errno 2] No such file or directory: 'data/liberty_times.pkl'",
     "output_type": "error",
     "traceback": [
      "\u001b[0;31m---------------------------------------------------------------------------\u001b[0m",
      "\u001b[0;31mFileNotFoundError\u001b[0m                         Traceback (most recent call last)",
      "\u001b[0;32m<ipython-input-12-94dd77aa7b6f>\u001b[0m in \u001b[0;36m<module>\u001b[0;34m\u001b[0m\n\u001b[1;32m      1\u001b[0m \u001b[0;32mimport\u001b[0m \u001b[0mpickle\u001b[0m\u001b[0;34m\u001b[0m\u001b[0;34m\u001b[0m\u001b[0m\n\u001b[1;32m      2\u001b[0m \u001b[0;34m\u001b[0m\u001b[0m\n\u001b[0;32m----> 3\u001b[0;31m \u001b[0;32mwith\u001b[0m \u001b[0mopen\u001b[0m\u001b[0;34m(\u001b[0m\u001b[0;34m'data/liberty_times.pkl'\u001b[0m\u001b[0;34m,\u001b[0m \u001b[0;34m'wb'\u001b[0m\u001b[0;34m)\u001b[0m \u001b[0;32mas\u001b[0m \u001b[0mf\u001b[0m\u001b[0;34m:\u001b[0m\u001b[0;34m\u001b[0m\u001b[0;34m\u001b[0m\u001b[0m\n\u001b[0m\u001b[1;32m      4\u001b[0m     \u001b[0mpickle\u001b[0m\u001b[0;34m.\u001b[0m\u001b[0mdump\u001b[0m\u001b[0;34m(\u001b[0m\u001b[0mall_data\u001b[0m\u001b[0;34m,\u001b[0m \u001b[0mf\u001b[0m\u001b[0;34m)\u001b[0m\u001b[0;34m\u001b[0m\u001b[0;34m\u001b[0m\u001b[0m\n",
      "\u001b[0;31mFileNotFoundError\u001b[0m: [Errno 2] No such file or directory: 'data/liberty_times.pkl'"
     ]
    }
   ],
   "source": [
    "import pickle\n",
    "\n",
    "with open('data/liberty_times.pkl', 'wb') as f:\n",
    "    pickle.dump(all_data, f)"
   ]
  },
  {
   "cell_type": "code",
   "execution_count": 13,
   "metadata": {},
   "outputs": [
    {
     "data": {
      "text/html": [
       "<div>\n",
       "<style scoped>\n",
       "    .dataframe tbody tr th:only-of-type {\n",
       "        vertical-align: middle;\n",
       "    }\n",
       "\n",
       "    .dataframe tbody tr th {\n",
       "        vertical-align: top;\n",
       "    }\n",
       "\n",
       "    .dataframe thead th {\n",
       "        text-align: right;\n",
       "    }\n",
       "</style>\n",
       "<table border=\"1\" class=\"dataframe\">\n",
       "  <thead>\n",
       "    <tr style=\"text-align: right;\">\n",
       "      <th></th>\n",
       "      <th>date</th>\n",
       "      <th>title</th>\n",
       "      <th>link</th>\n",
       "      <th>content</th>\n",
       "      <th>tags</th>\n",
       "    </tr>\n",
       "  </thead>\n",
       "  <tbody>\n",
       "    <tr>\n",
       "      <th>0</th>\n",
       "      <td>2019-02-01</td>\n",
       "      <td>嚴德發：想要和平 先做好戰爭準備</td>\n",
       "      <td>http://news.ltn.com.tw/news/politics/paper/126...</td>\n",
       "      <td>〔記者涂鉅旻／台北報導〕中國國家主席習近平在今年初發表談話，再度提及一國兩制、不放棄武力犯台...</td>\n",
       "      <td>[]</td>\n",
       "    </tr>\n",
       "    <tr>\n",
       "      <th>1</th>\n",
       "      <td>2019-02-01</td>\n",
       "      <td>習近平嗆武統 歐洲議會批中挺台</td>\n",
       "      <td>http://news.ltn.com.tw/news/politics/paper/126...</td>\n",
       "      <td>〔記者彭琬馨／台北報導〕中國領導人習近平上月初發表對台談話，不承諾放棄對台動武。歐洲議會三十...</td>\n",
       "      <td>[]</td>\n",
       "    </tr>\n",
       "    <tr>\n",
       "      <th>2</th>\n",
       "      <td>2019-02-01</td>\n",
       "      <td>總統遭國台辦謾罵 吳釗燮回嗆瘋子</td>\n",
       "      <td>http://news.ltn.com.tw/news/politics/paper/126...</td>\n",
       "      <td>〔記者彭琬馨／台北報導〕農曆春節前夕，總統蔡英文至全台各地勞軍行程，遭中國國台辦發言人馬曉光...</td>\n",
       "      <td>[]</td>\n",
       "    </tr>\n",
       "    <tr>\n",
       "      <th>3</th>\n",
       "      <td>2019-02-01</td>\n",
       "      <td>禁中國資通產品原則 政院延至年後宣布</td>\n",
       "      <td>http://news.ltn.com.tw/news/politics/paper/126...</td>\n",
       "      <td>〔記者李欣芳／台北報導〕行政院要禁止中央機關採購中國資通訊等產品，原規劃一月底發布「各機關使...</td>\n",
       "      <td>[]</td>\n",
       "    </tr>\n",
       "    <tr>\n",
       "      <th>4</th>\n",
       "      <td>2019-02-01</td>\n",
       "      <td>賀台灣關係法40週年 佛訥籲美與台簽FTA</td>\n",
       "      <td>http://news.ltn.com.tw/news/politics/paper/126...</td>\n",
       "      <td>〔記者蘇永耀、吳佳穎／台北報導〕蔡英文總統昨日接見美國智庫「傳統基金會」創辦人佛訥（Edwi...</td>\n",
       "      <td>[]</td>\n",
       "    </tr>\n",
       "  </tbody>\n",
       "</table>\n",
       "</div>"
      ],
      "text/plain": [
       "         date                  title  \\\n",
       "0  2019-02-01       嚴德發：想要和平 先做好戰爭準備   \n",
       "1  2019-02-01        習近平嗆武統 歐洲議會批中挺台   \n",
       "2  2019-02-01       總統遭國台辦謾罵 吳釗燮回嗆瘋子   \n",
       "3  2019-02-01     禁中國資通產品原則 政院延至年後宣布   \n",
       "4  2019-02-01  賀台灣關係法40週年 佛訥籲美與台簽FTA   \n",
       "\n",
       "                                                link  \\\n",
       "0  http://news.ltn.com.tw/news/politics/paper/126...   \n",
       "1  http://news.ltn.com.tw/news/politics/paper/126...   \n",
       "2  http://news.ltn.com.tw/news/politics/paper/126...   \n",
       "3  http://news.ltn.com.tw/news/politics/paper/126...   \n",
       "4  http://news.ltn.com.tw/news/politics/paper/126...   \n",
       "\n",
       "                                             content tags  \n",
       "0  〔記者涂鉅旻／台北報導〕中國國家主席習近平在今年初發表談話，再度提及一國兩制、不放棄武力犯台...   []  \n",
       "1  〔記者彭琬馨／台北報導〕中國領導人習近平上月初發表對台談話，不承諾放棄對台動武。歐洲議會三十...   []  \n",
       "2  〔記者彭琬馨／台北報導〕農曆春節前夕，總統蔡英文至全台各地勞軍行程，遭中國國台辦發言人馬曉光...   []  \n",
       "3  〔記者李欣芳／台北報導〕行政院要禁止中央機關採購中國資通訊等產品，原規劃一月底發布「各機關使...   []  \n",
       "4  〔記者蘇永耀、吳佳穎／台北報導〕蔡英文總統昨日接見美國智庫「傳統基金會」創辦人佛訥（Edwi...   []  "
      ]
     },
     "execution_count": 13,
     "metadata": {},
     "output_type": "execute_result"
    }
   ],
   "source": [
    "import pandas as pd\n",
    "pd.DataFrame(all_data)[['date', 'title', 'link', 'content', 'tags']].head()"
   ]
  }
 ],
 "metadata": {
  "kernelspec": {
   "display_name": "Python 3",
   "language": "python",
   "name": "python3"
  },
  "language_info": {
   "codemirror_mode": {
    "name": "ipython",
    "version": 3
   },
   "file_extension": ".py",
   "mimetype": "text/x-python",
   "name": "python",
   "nbconvert_exporter": "python",
   "pygments_lexer": "ipython3",
   "version": "3.7.1"
  }
 },
 "nbformat": 4,
 "nbformat_minor": 2
}
